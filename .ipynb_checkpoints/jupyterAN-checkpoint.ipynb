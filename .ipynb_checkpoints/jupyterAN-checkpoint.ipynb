{
 "cells": [
  {
   "cell_type": "markdown",
   "metadata": {},
   "source": [
    "##### <center> MINISTERE DE L’ENSEIGNEMENT SUPERIEUR  ET DE LA RECHERCHE SCIENTIFIQUE <br/> UNIVERSITE DE SOUSSE </center>\n",
    "\n",
    " \n",
    "\n",
    "### <center>Institut Supérieur d’Informatique et de Technique de Communication </center>           <img src=\"isitcom.png\"> \n",
    "### <center>المعهد العالي للإعلامية و تقنيات الاتصال بحمام سوسة</center>\n",
    "\n",
    " \n",
    "\n",
    "## <center> <div style=\"background-color:lavender;color:steelBlue;padding:1%;text-decoration: underline;\"><font style=\"font-family:italic;\" size=\"12\" >Analyse numérique</div> \n",
    "\n",
    " \n",
    "\n",
    "# <center> <div style=\"text-decoration: underline;\"><font size=\"5\" >TP3: intégration numérique</div> \n",
    "    \n",
    "\n",
    " \n",
    "\n",
    "###  <center> Réalisé par : <br> Amine Kammoun <br> 2DNI1  <center> <hr>\n",
    "\n",
    " \n",
    "\n",
    "#### <center> Année Universitaire 2021 – 2022 <center>"
   ]
  },
  {
   "cell_type": "code",
   "execution_count": 5,
   "metadata": {},
   "outputs": [],
   "source": [
    "import numpy as np\n",
    "from numpy import *\n",
    "import matplotlib.pyplot as plt\n",
    "import ipywidgets as widgets"
   ]
  },
  {
   "cell_type": "code",
   "execution_count": 6,
   "metadata": {},
   "outputs": [],
   "source": [
    "f=lambda x:1/(1+x**2)"
   ]
  },
  {
   "cell_type": "markdown",
   "metadata": {},
   "source": [
    "#  <font color=\"Indigo\"/> Méthode des rectangles:"
   ]
  },
  {
   "cell_type": "code",
   "execution_count": 7,
   "metadata": {},
   "outputs": [],
   "source": [
    "class RectangleG ( object ) :\n",
    "    def __init__ (self , a , b , n , f ) : #initialisation de la classe : c'est un constructeur prédéfini\n",
    "        self.a = a\n",
    "        self.b = b\n",
    "        self.x = np.linspace( a , b , n+1 )\n",
    "        self.f = f\n",
    "        self.n = n\n",
    "    def integrate ( self , f ) : #méthode pour calculer la valeur de l'intégrale selon la formule des rectangles\n",
    "        x= self.x\n",
    "        y= f( x )\n",
    "        h = float( x[1] - x[0] ) #pour calculer la valeur du pas\n",
    "        s = sum( y[ 0 : -1 ] ) \n",
    "        return h * s\n",
    "    def Graph ( self , f , resolution =1001 ) :\n",
    "        xl = self.x\n",
    "        yl = f(xl)\n",
    "        xlist_fine =np.linspace( self.a , self.b , resolution )\n",
    "        for i in range ( self.n ) :\n",
    "            x_rect = [xl[ i ] , xl[ i ] , xl[ i + 1 ] , xl[i+1] , xl[ i ] ] # abscisses des sommets\n",
    "            y_rect = [0 , yl[ i ] , yl[ i ] , 0 , 0 ] # ordonnees des sommets\n",
    "            plt.plot ( x_rect , y_rect , 'r' )\n",
    "        yflist_fine = f ( xlist_fine )\n",
    "        plt.plot ( xlist_fine , yflist_fine )\n",
    "        plt.plot(xl, yl,\"bo\")\n",
    "        plt.xlabel ( 'x' )\n",
    "        plt.ylabel ( ' f ( x ) ' )\n",
    "        plt.title ( ' Methode des rectangles gauches' )\n",
    "        plt.text( 0.5*( self.a+ self.b ) , f(self.b ) , 'I_{} ={:0.8f}'.format(self.n,self.integrate( f ) ) , fontsize =15 )\n",
    "\n",
    "    "
   ]
  },
  {
   "cell_type": "code",
   "execution_count": 8,
   "metadata": {},
   "outputs": [],
   "source": [
    "R=RectangleG(-1,1,5,f)"
   ]
  },
  {
   "cell_type": "code",
   "execution_count": 9,
   "metadata": {},
   "outputs": [
    {
     "data": {
      "image/png": "[encoded data removed]",
      "text/plain": [
       "<Figure size 432x288 with 1 Axes>"
      ]
     },
     "metadata": {
      "needs_background": "light"
     },
     "output_type": "display_data"
    }
   ],
   "source": [
    "R.Graph(f)"
   ]
  },
  {
   "cell_type": "markdown",
   "metadata": {},
   "source": [
    "Pour la méthode des rectangles: \n",
    "\n",
    "-on a donné la fonction $f$ avec un intervalle donné et le nombre de subdivisions $n$\n",
    "\n",
    "-on récupère par la suite la fonction f avec le calcul d'intégrale,la valeur approchée de l'intégrale et le graphe résultant les rectangles ainsi la valeur de l'intégrale approché\n",
    "    "
   ]
  },
  {
   "cell_type": "markdown",
   "metadata": {},
   "source": [
    "#  <font color=\"Indigo\"/> Méthode des trapèzes:"
   ]
  },
  {
   "cell_type": "code",
   "execution_count": 10,
   "metadata": {},
   "outputs": [],
   "source": [
    "class Trapezoidal(object):\n",
    "    def __init__(self, a, b, n, f):\n",
    "        self.a = a\n",
    "        self.b = b\n",
    "        self.x = np.linspace(a, b, n+1)\n",
    "        self.f = f\n",
    "        self.n = n\n",
    "    def integrate(self,f):\n",
    "        x=self.x\n",
    "        y=f(x)\n",
    "        h = float(x[1] - x[0])\n",
    "        s = y[0] + y[-1] + 2.0*sum(y[1:-1])\n",
    "        return h * s / 2.0\n",
    "    def Graph(self,f,resolution=1001):\n",
    "        xl = self.x\n",
    "        yl = f(xl)\n",
    "        xlist_fine=np.linspace(self.a, self.b, resolution)\n",
    "        for i in range(self.n):\n",
    "            x_rect = [xl[i], xl[i], xl[i+1], xl[i+1], xl[i]] # abscisses des sommets\n",
    "            y_rect = [0   , yl[i], yl[i+1]  , 0     , 0   ] # ordonnees des sommets\n",
    "            plt.plot(x_rect, y_rect,\"m\")\n",
    "        yflist_fine = f(xlist_fine)\n",
    "        plt.plot(xlist_fine, yflist_fine)#plot de f(x)\n",
    "        plt.plot(xl, yl,\"cs\")#point support\n",
    "        plt.ylabel ( ' f ( x ) ' )\n",
    "        plt.title ( ' Methode des Trapèzes' )\n",
    "        plt.text( 0.5*( self.a+ self.b ) , f(self.b ) , 'I_{} ={:0.8f}'.format(self.n,self.integrate( f ) ) , fontsize =15 )"
   ]
  },
  {
   "cell_type": "code",
   "execution_count": 11,
   "metadata": {},
   "outputs": [
    {
     "data": {
      "application/vnd.jupyter.widget-view+json": {
       "model_id": "bee719fe3420490da073f2106bdf52f3",
       "version_major": 2,
       "version_minor": 0
      },
      "text/plain": [
       "interactive(children=(IntSlider(value=1, description='a:', max=10, min=-1), Dropdown(description='f', options=…"
      ]
     },
     "metadata": {},
     "output_type": "display_data"
    }
   ],
   "source": [
    "@widgets.interact_manual( \n",
    "            color=['blue', 'red', 'green'],\n",
    "            a = widgets.IntSlider(min=-1, max=10, value=1, description='a:'),\n",
    "            b = widgets.IntSlider(min=-2, max=5, value=0, description='b:'),\n",
    "            n=widgets.IntSlider(min=1, max=50, step=5,value=10,description='n:'),\n",
    "            f={\n",
    "                 '1/(1+x**2)': lambda x:1/(1+x**2), \n",
    "                  'sin(x)': lambda x:sin(x),\n",
    "                  'cos(x)': lambda x:cos(x),\n",
    "                   'x**2-x+5': lambda x:x**2-x+5\n",
    "                                        }\n",
    "                   )\n",
    "def plot(a=-1, f='1/(1+x**2)',b=1,n=4, grid=True,color='red'):\n",
    "    S = Simpson(a, b, n, f)\n",
    "\n",
    "    fig, ax = plt.subplots(1, 1, figsize=(8, 6))\n",
    "    \n",
    "    ax.grid(grid)\n",
    "    return S.Graph(f)"
   ]
  },
  {
   "cell_type": "code",
   "execution_count": 12,
   "metadata": {},
   "outputs": [
    {
     "data": {
      "image/png": "[encoded data removed]",
      "text/plain": [
       "<Figure size 432x288 with 1 Axes>"
      ]
     },
     "metadata": {
      "needs_background": "light"
     },
     "output_type": "display_data"
    }
   ],
   "source": [
    "def simul(n,f):\n",
    "    R=RectangleG(-1,1,n,f)\n",
    "    return R.Graph(f)\n",
    "simul(5,f)"
   ]
  },
  {
   "cell_type": "code",
   "execution_count": 13,
   "metadata": {},
   "outputs": [
    {
     "ename": "NameError",
     "evalue": "name 'interact' is not defined",
     "output_type": "error",
     "traceback": [
      "\u001b[0;31m---------------------------------------------------------------------------\u001b[0m",
      "\u001b[0;31mNameError\u001b[0m                                 Traceback (most recent call last)",
      "\u001b[0;32m/tmp/ipykernel_11465/2808696167.py\u001b[0m in \u001b[0;36m<module>\u001b[0;34m\u001b[0m\n\u001b[0;32m----> 1\u001b[0;31m interact (simul, n=widgets.IntSlider(\n\u001b[0m\u001b[1;32m      2\u001b[0m     \u001b[0mmin\u001b[0m\u001b[0;34m=\u001b[0m\u001b[0;36m1\u001b[0m\u001b[0;34m,\u001b[0m \u001b[0mmax\u001b[0m\u001b[0;34m=\u001b[0m\u001b[0;36m50\u001b[0m\u001b[0;34m,\u001b[0m \u001b[0mstep\u001b[0m\u001b[0;34m=\u001b[0m\u001b[0;36m5\u001b[0m\u001b[0;34m,\u001b[0m\u001b[0mvalue\u001b[0m\u001b[0;34m=\u001b[0m\u001b[0;36m10\u001b[0m\u001b[0;34m)\u001b[0m\u001b[0;34m,\u001b[0m \u001b[0mf\u001b[0m\u001b[0;34m=\u001b[0m\u001b[0;34m{\u001b[0m\u001b[0;34m'1/(1+x**2)'\u001b[0m\u001b[0;34m:\u001b[0m \u001b[0;32mlambda\u001b[0m \u001b[0mx\u001b[0m\u001b[0;34m:\u001b[0m\u001b[0;36m1\u001b[0m\u001b[0;34m/\u001b[0m\u001b[0;34m(\u001b[0m\u001b[0;36m1\u001b[0m\u001b[0;34m+\u001b[0m\u001b[0mx\u001b[0m\u001b[0;34m**\u001b[0m\u001b[0;36m2\u001b[0m\u001b[0;34m)\u001b[0m\u001b[0;34m,\u001b[0m\u001b[0;34m\u001b[0m\u001b[0;34m\u001b[0m\u001b[0m\n\u001b[1;32m      3\u001b[0m                                         'sin(x)': lambda x:sin(x),'cos(x)': lambda x:cos(x),'x**2-x+5': lambda x:x**2-x+5})\n",
      "\u001b[0;31mNameError\u001b[0m: name 'interact' is not defined"
     ]
    }
   ],
   "source": [
    "interact (simul, n=widgets.IntSlider(\n",
    "    min=1, max=50, step=5,value=10), f={'1/(1+x**2)': lambda x:1/(1+x**2), \n",
    "                                        'sin(x)': lambda x:sin(x),'cos(x)': lambda x:cos(x),'x**2-x+5': lambda x:x**2-x+5})"
   ]
  },
  {
   "cell_type": "markdown",
   "metadata": {},
   "source": [
    "#  <font color=\"Indigo\"/> Méthode de Simpson:"
   ]
  },
  {
   "cell_type": "code",
   "execution_count": null,
   "metadata": {},
   "outputs": [],
   "source": [
    "class Simpson(object):\n",
    "    def __init__(self, a, b, n, f): \n",
    "        self.a = a\n",
    "        self.b = b\n",
    "        self.x = np.linspace(a,b,n+1)\n",
    "        self.f = f\n",
    "        self.n = n \n",
    "\n",
    "    def integrate(self,f):\n",
    "        x=self.x \n",
    "        y=f(x) \n",
    "        h = float(x[1] - x[0])\n",
    "        n = len(x) - 1\n",
    "        if n % 2 == 1:\n",
    "            n -= 1\n",
    "        s = y[0] + y[n] + 4.0 * sum(y[1:-1:2]) + 2.0 * sum(y[2:-2:2])\n",
    "        \n",
    "        \n",
    "        return h * s / 3.0\n",
    "    def Graph(self,f,resolution=1001):\n",
    "        xl = self.x \n",
    "        yl = f(xl) \n",
    "        xlist_fine=np.linspace(self.a, self.b, resolution)\n",
    "     \n",
    "        for i in range(self.n):\n",
    "            xx=np.linspace(xl[i], xl[i+1], resolution)\n",
    "            m=(xl[i]+xl[i+1])/2\n",
    "            a=xl[i]\n",
    "            b=xl[i+1]\n",
    "            l0 = (xx-m)/(a-m)*(xx-b)/(a-b)\n",
    "            l1 = (xx-a)/(m-a)*(xx-b)/(m-b)\n",
    "            l2 = (xx-a)/(b-a)*(xx-m)/(b-m)\n",
    "            P = f(a)*l0 + f(m)*l1 + f(b)*l2\n",
    "            plt.plot(xx,P,'m')\n",
    "        yflist_fine = f(xlist_fine)\n",
    "        plt.plot(xlist_fine, yflist_fine,'g')\n",
    "        plt.plot(xl, yl,'wp')\n",
    "        \n",
    "        plt.ylabel('f(x)')\n",
    "        plt.title('Simpson')"
   ]
  },
  {
   "cell_type": "code",
   "execution_count": null,
   "metadata": {},
   "outputs": [],
   "source": [
    "@widgets.interact_manual( \n",
    "            color=['blue', 'red', 'green'],\n",
    "            a = widgets.IntSlider(min=-1, max=10, value=1, description='a:'),\n",
    "            b = widgets.IntSlider(min=-2, max=5, value=0, description='b:'),\n",
    "            n=widgets.IntSlider(min=1, max=50, step=5,value=10,description='n:'),\n",
    "            f={\n",
    "                 '1/(1+x**2)': lambda x:1/(1+x**2), \n",
    "                  'sin(x)': lambda x:sin(x),\n",
    "                  'cos(x)': lambda x:cos(x),\n",
    "                   'x**2-x+5': lambda x:x**2-x+5\n",
    "                                        }\n",
    "                   )\n",
    "def plot(a=-1, f='1/(1+x**2)',b=1,n=4, grid=True,color='red'):\n",
    "    S = Simpson(a, b, n, f)\n",
    "\n",
    "    fig, ax = plt.subplots(1, 1, figsize=(8, 6))\n",
    "    \n",
    "    ax.grid(grid)\n",
    "    return S.Graph(f)"
   ]
  },
  {
   "cell_type": "code",
   "execution_count": null,
   "metadata": {},
   "outputs": [],
   "source": [
    "def sim(n,f):\n",
    "    R=RectangleG(-1,1,n,f)\n",
    "    T=Trapezoidal(-1,1,n,f)\n",
    "    fig=plt.figure(figsize=(12,2))\n",
    "    plt.subplot(121)\n",
    "    R.Graph(f)\n",
    "    plt.subplot(122)\n",
    "    T.Graph(f)\n",
    "    plt.show()"
   ]
  },
  {
   "cell_type": "code",
   "execution_count": null,
   "metadata": {},
   "outputs": [],
   "source": [
    "sim(5,f)"
   ]
  },
  {
   "cell_type": "code",
   "execution_count": null,
   "metadata": {},
   "outputs": [],
   "source": [
    "interact (sim, n=widgets.IntSlider(\n",
    "    min=1, max=50, step=5,value=10), f={'1/(1+x**2)': lambda x:1/(1+x**2), \n",
    "                                        'sin(x)': lambda x:sin(x),'cos(x)': lambda x:cos(x),'x**2-x+5': lambda x:x**2-x+5})"
   ]
  },
  {
   "cell_type": "code",
   "execution_count": null,
   "metadata": {},
   "outputs": [],
   "source": [
    "class Milieu1(object):  \n",
    "    def __init__(self, a, b, n, f):\n",
    "        self.a = a\n",
    "        self.b = b\n",
    "        self.x = np.linspace(a, b, n+1)\n",
    "        self.f = f\n",
    "        self.n = n\n",
    "    def integrate(self,f):\n",
    "        x=self.x# contiens les xi\n",
    "        h = float(x[1] - x[0])\n",
    "        s=0\n",
    "        for i in range(self.n):\n",
    "            s=s+f((x[i]+x[i+1])*0.5)\n",
    "        return h*s\n",
    "       \n",
    "    def Graph(self,f,resolution=1001):\n",
    "\n",
    "        xl = self.x\n",
    "        yl=f(xl)\n",
    "        xlist_fine=np.linspace(self.a, self.b, resolution)\n",
    "\n",
    "       \n",
    "        \n",
    "        for i in range(self.n):\n",
    "            \n",
    "            m=(xl[i]+xl[i+1])/2\n",
    "            x_rect = [xl[i], xl[i], xl[i+1], xl[i+1], xl[i]] \n",
    "            y_rect = [0   , f(m), f(m)  , 0     , 0   ] \n",
    "\n",
    "            \n",
    "            plt.plot(x_rect, y_rect,\"b\")\n",
    "            yflist_fine = f(xlist_fine)\n",
    "            plt.plot(xlist_fine, yflist_fine)\n",
    "            plt.plot(m,f(m),\"y*\")\n",
    "            plt.xlabel('x')\n",
    "            plt.ylabel('f(x)')\n",
    "            plt.title('Milieu')"
   ]
  },
  {
   "cell_type": "code",
   "execution_count": null,
   "metadata": {},
   "outputs": [],
   "source": [
    "def simulataion(n,f):\n",
    "    R=RectangleG(-1,1,n,f)\n",
    "    T=Trapezoidal(-1,1,n,f)\n",
    "    S=Simpson(-1,1,n,f)\n",
    "    M=Milieu1(-1,1,n,f)\n",
    "    fig=plt.figure(figsize = (20, 10))\n",
    "    plt.gcf().subplots_adjust( wspace = 0.5, hspace = 1)\n",
    "    ax = fig.add_subplot(221) \n",
    "    ax.grid()\n",
    "    ax.legend(loc=1)\n",
    "    T.Graph(f) \n",
    "    \n",
    "    ax = fig.add_subplot(222)\n",
    "    ax.grid()\n",
    "    S.Graph(f)\n",
    "    \n",
    "    ax = fig.add_subplot(223)\n",
    "    ax.grid()\n",
    "    R.Graph(f)\n",
    "    \n",
    "    ax = fig.add_subplot(224)\n",
    "    ax.grid()\n",
    "    M.Graph(f)  \n",
    "    plt.show()  \n",
    "simulataion(4,f)"
   ]
  },
  {
   "cell_type": "code",
   "execution_count": null,
   "metadata": {},
   "outputs": [],
   "source": [
    "from IPython.display import display\n",
    "button = widgets.Button(description=\"Plot\")\n",
    "output = widgets.Output()\n",
    "M=Milieu1(-1,1,4,f)\n",
    "display(button, output)\n",
    "f=lambda x:1/(1+x**2)\n",
    "def on_button_clicked(b):\n",
    "    fig, ax = plt.subplots(1, 1, figsize=(8, 6))\n",
    "    ax.grid()\n",
    "    return M.Graph(f)\n",
    "\n",
    "button.on_click(on_button_clicked)"
   ]
  },
  {
   "cell_type": "code",
   "execution_count": null,
   "metadata": {},
   "outputs": [],
   "source": []
  }
 ],
 "metadata": {
  "kernelspec": {
   "display_name": "Python 3",
   "language": "python",
   "name": "python3"
  },
  "language_info": {
   "codemirror_mode": {
    "name": "ipython",
    "version": 3
   },
   "file_extension": ".py",
   "mimetype": "text/x-python",
   "name": "python",
   "nbconvert_exporter": "python",
   "pygments_lexer": "ipython3",
   "version": "3.8.8"
  }
 },
 "nbformat": 4,
 "nbformat_minor": 4
}
